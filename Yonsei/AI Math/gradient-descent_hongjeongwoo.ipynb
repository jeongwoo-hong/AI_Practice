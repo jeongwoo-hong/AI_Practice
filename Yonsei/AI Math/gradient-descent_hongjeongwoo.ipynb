{
 "cells": [
  {
   "cell_type": "code",
   "execution_count": 74,
   "metadata": {},
   "outputs": [
    {
     "name": "stdout",
     "output_type": "stream",
     "text": [
      "25\n"
     ]
    }
   ],
   "source": [
    "# import numpy as np\n",
    "import torch\n",
    "from matplotlib import pyplot as plt\n",
    "from tqdm import trange\n",
    "\n",
    "def square(x):\n",
    "  return x**2\n",
    "\n",
    "print(square(5))"
   ]
  },
  {
   "cell_type": "code",
   "execution_count": 77,
   "metadata": {},
   "outputs": [
    {
     "name": "stdout",
     "output_type": "stream",
     "text": [
      "0.0\n",
      "1.9999999999992246\n"
     ]
    }
   ],
   "source": [
    "def derivative(f, x, h=1e-4):\n",
    "  fx1 = f(x-h)\n",
    "  fx2 = f(x+h)\n",
    "  return (fx2 - fx1) / (2*h)\n",
    "\n",
    "print(derivative(square, 0))\n",
    "print(derivative(square, 1))"
   ]
  },
  {
   "cell_type": "code",
   "execution_count": 78,
   "metadata": {},
   "outputs": [
    {
     "data": {
      "image/png": "[encoded data removed]",
      "text/plain": [
       "<Figure size 432x288 with 1 Axes>"
      ]
     },
     "metadata": {
      "needs_background": "light"
     },
     "output_type": "display_data"
    }
   ],
   "source": [
    "xs = torch.arange(-3, 3, 0.1)\n",
    "xs_square = [square(x) for x in xs]\n",
    "estimated_derivatives = [derivative(square, x) for x in xs]\n",
    "plt.plot(xs, xs_square)\n",
    "plt.plot(xs, estimated_derivatives)\n",
    "plt.show()"
   ]
  },
  {
   "cell_type": "code",
   "execution_count": 79,
   "metadata": {},
   "outputs": [
    {
     "name": "stdout",
     "output_type": "stream",
     "text": [
      "-0.7103259175156689 -1.4206518350312614\n",
      "-0.5682607340125427 -1.136521468024787\n",
      "-0.45460858721006403 -0.9092171744200239\n",
      "-0.36368686976806164 -0.7273737395360746\n",
      "-0.2909494958144542 -0.581898991628832\n",
      "-0.23275959665157098 -0.4655191933030864\n",
      "-0.18620767732126234 -0.37241535464246217\n",
      "-0.14896614185701612 -0.29793228371400093\n",
      "-0.11917291348561602 -0.23834582697124412\n",
      "-0.0953383307884916 -0.19067666157698662\n"
     ]
    },
    {
     "data": {
      "image/png": "[encoded data removed]",
      "text/plain": [
       "<Figure size 432x288 with 1 Axes>"
      ]
     },
     "metadata": {
      "needs_background": "light"
     },
     "output_type": "display_data"
    }
   ],
   "source": [
    "import numpy as np\n",
    "x0 = np.random.uniform(-3, 3)\n",
    "xi = x0\n",
    "step_size = 1e-1\n",
    "xis = [x0]\n",
    "for i in range(10):\n",
    "  g = derivative(square, xi)\n",
    "  print(xi, g)\n",
    "  xi = xi - g * step_size\n",
    "  xis.append(xi)\n",
    "plt.plot(xs, xs_square)\n",
    "plt.scatter(xis, [square(x) for x in xis])\n",
    "plt.show()"
   ]
  },
  {
   "cell_type": "code",
   "execution_count": 80,
   "metadata": {},
   "outputs": [
    {
     "name": "stdout",
     "output_type": "stream",
     "text": [
      "tensor([4., 6.])\n",
      "tensor([[1., 2.],\n",
      "        [3., 4.],\n",
      "        [4., 6.]])\n"
     ]
    },
    {
     "data": {
      "image/png": "[encoded data removed]",
      "text/plain": [
       "<Figure size 432x288 with 1 Axes>"
      ]
     },
     "metadata": {
      "needs_background": "light"
     },
     "output_type": "display_data"
    }
   ],
   "source": [
    "vector1 = torch.Tensor([1, 2])\n",
    "vector2 = torch.Tensor([3, 4])\n",
    "vector3 = vector1 + vector2\n",
    "print(vector3)\n",
    "stack = torch.stack([vector1, vector2, vector3])\n",
    "print(stack)\n",
    "plt.scatter(stack[:, 0], stack[:, 1])\n",
    "plt.xlim(0, 6.5)\n",
    "plt.ylim(0, 6.5)\n",
    "plt.show()"
   ]
  },
  {
   "cell_type": "code",
   "execution_count": 81,
   "metadata": {},
   "outputs": [
    {
     "name": "stdout",
     "output_type": "stream",
     "text": [
      "tensor([2., 4., 6.])\n"
     ]
    }
   ],
   "source": [
    "vector4 = torch.Tensor([1, 2, 3])\n",
    "print(vector4 * 2)"
   ]
  },
  {
   "cell_type": "code",
   "execution_count": 82,
   "metadata": {},
   "outputs": [
    {
     "name": "stdout",
     "output_type": "stream",
     "text": [
      "tensor([3., 4.])\n"
     ]
    }
   ],
   "source": [
    "vector1 = torch.Tensor([1, 2]).float()\n",
    "vector2 = torch.Tensor([3, 4]).float()\n",
    "vector3 = torch.Tensor([5, 6]).float()\n",
    "print(sum([vector1, vector2, vector3]) / 3)"
   ]
  },
  {
   "cell_type": "code",
   "execution_count": 83,
   "metadata": {},
   "outputs": [
    {
     "name": "stdout",
     "output_type": "stream",
     "text": [
      "tensor([[1., 2.],\n",
      "        [3., 4.],\n",
      "        [5., 6.]])\n",
      "tensor([3., 4.])\n"
     ]
    }
   ],
   "source": [
    "vectors = torch.stack([vector1, vector2, vector3])\n",
    "print(vectors)\n",
    "print(vectors.mean(axis=0, dtype=torch.float))"
   ]
  },
  {
   "cell_type": "code",
   "execution_count": 84,
   "metadata": {},
   "outputs": [
    {
     "name": "stdout",
     "output_type": "stream",
     "text": [
      "tensor(32.)\n",
      "tensor(32.)\n"
     ]
    }
   ],
   "source": [
    "vector4 = torch.Tensor([1, 2, 3])\n",
    "vector5 = torch.Tensor([4, 5, 6])\n",
    "print(vector4.dot(vector5))\n",
    "print(torch.dot(vector4, vector5))"
   ]
  },
  {
   "cell_type": "code",
   "execution_count": 85,
   "metadata": {},
   "outputs": [
    {
     "name": "stdout",
     "output_type": "stream",
     "text": [
      "tensor(14.)\n",
      "tensor(14.)\n"
     ]
    }
   ],
   "source": [
    "def sum_of_squares(vec):\n",
    "  return sum([e * e for e in vec])\n",
    "\n",
    "vector4 = torch.Tensor([1, 2, 3])\n",
    "print(sum_of_squares(vector4))\n",
    "print(torch.dot(vector4, vector4))"
   ]
  },
  {
   "cell_type": "code",
   "execution_count": 87,
   "metadata": {},
   "outputs": [
    {
     "name": "stdout",
     "output_type": "stream",
     "text": [
      "tensor(5.)\n",
      "tensor(5.)\n"
     ]
    }
   ],
   "source": [
    "vector6 = torch.Tensor([3, 4])\n",
    "print(torch.sqrt(torch.dot(vector6, vector6)))\n",
    "print(torch.linalg.norm(vector6))"
   ]
  },
  {
   "cell_type": "code",
   "execution_count": 88,
   "metadata": {},
   "outputs": [
    {
     "name": "stdout",
     "output_type": "stream",
     "text": [
      "tensor([[0, 1],\n",
      "        [2, 3],\n",
      "        [4, 5]])\n",
      "tensor([[-3, -2],\n",
      "        [-1,  0],\n",
      "        [ 1,  2]])\n"
     ]
    }
   ],
   "source": [
    "A = torch.arange(6).reshape(3, 2)\n",
    "B = torch.arange(6).reshape(3, 2) - 3\n",
    "print(A)\n",
    "print(B)"
   ]
  },
  {
   "cell_type": "code",
   "execution_count": 91,
   "metadata": {},
   "outputs": [
    {
     "name": "stdout",
     "output_type": "stream",
     "text": [
      "tensor([[ 0, -2],\n",
      "        [-2,  0],\n",
      "        [ 4, 10]])\n"
     ]
    },
    {
     "ename": "TypeError",
     "evalue": "transpose() received an invalid combination of arguments - got (), but expected one of:\n * (int dim0, int dim1)\n * (name dim0, name dim1)\n",
     "output_type": "error",
     "traceback": [
      "\u001b[0;31m---------------------------------------------------------------------------\u001b[0m",
      "\u001b[0;31mTypeError\u001b[0m                                 Traceback (most recent call last)",
      "\u001b[1;32m/Users/jingwoo/Desktop/programing/AI_Practice/Yonsei/AI Math/gradient-descent.ipynb Cell 13'\u001b[0m in \u001b[0;36m<cell line: 2>\u001b[0;34m()\u001b[0m\n\u001b[1;32m      <a href='vscode-notebook-cell:/Users/jingwoo/Desktop/programing/AI_Practice/Yonsei/AI%20Math/gradient-descent.ipynb#ch0000012?line=0'>1</a>\u001b[0m \u001b[39mprint\u001b[39m(A \u001b[39m*\u001b[39m B)\n\u001b[0;32m----> <a href='vscode-notebook-cell:/Users/jingwoo/Desktop/programing/AI_Practice/Yonsei/AI%20Math/gradient-descent.ipynb#ch0000012?line=1'>2</a>\u001b[0m \u001b[39mprint\u001b[39m(A\u001b[39m.\u001b[39mdot(B\u001b[39m.\u001b[39;49mtranspose()))\n",
      "\u001b[0;31mTypeError\u001b[0m: transpose() received an invalid combination of arguments - got (), but expected one of:\n * (int dim0, int dim1)\n * (name dim0, name dim1)\n"
     ]
    }
   ],
   "source": [
    "print(A * B)\n",
    "print(A.dot(B.transpose(0, 0)))"
   ]
  },
  {
   "cell_type": "code",
   "execution_count": 92,
   "metadata": {},
   "outputs": [],
   "source": [
    "def sum_of_squares(xs):\n",
    "  return sum([x * x for x in xs])\n",
    "\n",
    "def gradient(f, xs, h=1e-6):\n",
    "  derivs = []\n",
    "  for i in range(len(xs)):\n",
    "    xs_ = torch.detach(xs)\n",
    "    xs_[i] += h\n",
    "    fx2 = f(xs_)\n",
    "    xs_[i] -= 2*h\n",
    "    fx1 = f(xs_)\n",
    "    derivs.append((fx2 - fx1) / (2*h))\n",
    "  return torch.Tensor(derivs)"
   ]
  },
  {
   "cell_type": "code",
   "execution_count": 93,
   "metadata": {},
   "outputs": [
    {
     "data": {
      "text/plain": [
       "(tensor([7.6294, 3.8147]), tensor([4.0000, 2.0000]))"
      ]
     },
     "execution_count": 93,
     "metadata": {},
     "output_type": "execute_result"
    }
   ],
   "source": [
    "xs = torch.Tensor([4., 2.])\n",
    "gs = gradient(sum_of_squares, xs)\n",
    "gs, xs"
   ]
  },
  {
   "cell_type": "code",
   "execution_count": 94,
   "metadata": {},
   "outputs": [
    {
     "name": "stdout",
     "output_type": "stream",
     "text": [
      "tensor([-0.3609,  0.6975]) tensor([-0.7451,  1.4007])\n",
      "tensor([-0.2864,  0.5575]) tensor([-0.5662,  1.1325])\n",
      "tensor([-0.2297,  0.4442]) tensor([-0.4470,  0.8941])\n",
      "tensor([-0.1850,  0.3548]) tensor([-0.3725,  0.7004])\n",
      "tensor([-0.1478,  0.2848]) tensor([-0.2943,  0.5700])\n",
      "tensor([-0.1183,  0.2278]) tensor([-0.2347,  0.4545])\n",
      "tensor([-0.0949,  0.1823]) tensor([-0.1881,  0.3651])\n",
      "tensor([-0.0761,  0.1458]) tensor([-0.1518,  0.2915])\n",
      "tensor([-0.0609,  0.1167]) tensor([-0.1220,  0.2328])\n",
      "tensor([-0.0487,  0.0934]) tensor([-0.0973,  0.1863])\n",
      "tensor([-0.0390,  0.0748]) tensor([-0.0780,  0.1492])\n",
      "tensor([-0.0312,  0.0598]) tensor([-0.0622,  0.1197])\n",
      "tensor([-0.0249,  0.0479]) tensor([-0.0499,  0.0957])\n",
      "tensor([-0.0199,  0.0383]) tensor([-0.0399,  0.0766])\n",
      "tensor([-0.0160,  0.0306]) tensor([-0.0319,  0.0612])\n",
      "tensor([-0.0128,  0.0245]) tensor([-0.0255,  0.0490])\n",
      "tensor([-0.0102,  0.0196]) tensor([-0.0204,  0.0392])\n",
      "tensor([-0.0082,  0.0157]) tensor([-0.0163,  0.0314])\n",
      "tensor([-0.0065,  0.0125]) tensor([-0.0131,  0.0251])\n",
      "tensor([-0.0052,  0.0100]) tensor([-0.0105,  0.0201])\n",
      "tensor([-0.0042,  0.0080]) tensor([-0.0084,  0.0161])\n",
      "tensor([-0.0034,  0.0064]) tensor([-0.0067,  0.0128])\n",
      "tensor([-0.0027,  0.0051]) tensor([-0.0054,  0.0103])\n",
      "tensor([-0.0021,  0.0041]) tensor([-0.0043,  0.0082])\n",
      "tensor([-0.0017,  0.0033]) tensor([-0.0034,  0.0066])\n",
      "tensor([-0.0014,  0.0026]) tensor([-0.0028,  0.0053])\n",
      "tensor([-0.0011,  0.0021]) tensor([-0.0022,  0.0042])\n",
      "tensor([-0.0009,  0.0017]) tensor([-0.0018,  0.0034])\n",
      "tensor([-0.0007,  0.0013]) tensor([-0.0014,  0.0027])\n",
      "tensor([-0.0006,  0.0011]) tensor([-0.0011,  0.0021])\n",
      "tensor([-0.0005,  0.0009]) tensor([-0.0009,  0.0017])\n",
      "tensor([-0.0004,  0.0007]) tensor([-0.0007,  0.0014])\n",
      "tensor([-0.0003,  0.0005]) tensor([-0.0006,  0.0011])\n",
      "tensor([-0.0002,  0.0004]) tensor([-0.0005,  0.0009])\n",
      "tensor([-0.0002,  0.0003]) tensor([-0.0004,  0.0007])\n",
      "tensor([-0.0002,  0.0003]) tensor([-0.0003,  0.0006])\n",
      "tensor([-0.0001,  0.0002]) tensor([-0.0002,  0.0004])\n",
      "tensor([-0.0001,  0.0002]) tensor([-0.0002,  0.0004])\n",
      "tensor([-8.1378e-05,  1.3873e-04]) tensor([-0.0002,  0.0003])\n",
      "tensor([-6.6302e-05,  1.0978e-04]) tensor([-0.0001,  0.0002])\n",
      "tensor([-5.4242e-05,  8.6625e-05]) tensor([-0.0001,  0.0002])\n",
      "tensor([-4.4594e-05,  6.8100e-05]) tensor([-8.7187e-05,  1.3820e-04])\n",
      "tensor([-3.6875e-05,  5.3280e-05]) tensor([-7.1750e-05,  1.0856e-04])\n",
      "tensor([-3.0700e-05,  4.1424e-05]) tensor([-5.9400e-05,  8.4847e-05])\n",
      "tensor([-2.5760e-05,  3.1939e-05]) tensor([-4.9520e-05,  6.5878e-05])\n",
      "tensor([-2.1808e-05,  2.4351e-05]) tensor([-4.1616e-05,  5.0702e-05])\n",
      "tensor([-1.8646e-05,  1.8281e-05]) tensor([-3.5293e-05,  3.8562e-05])\n",
      "tensor([-1.6117e-05,  1.3425e-05]) tensor([-3.0234e-05,  2.8850e-05])\n",
      "tensor([-1.4094e-05,  9.5398e-06]) tensor([-2.6187e-05,  2.1080e-05])\n",
      "tensor([-1.2475e-05,  6.4319e-06]) tensor([-2.2950e-05,  1.4864e-05])\n",
      "tensor([-1.0180e-05,  4.9455e-06])\n"
     ]
    }
   ],
   "source": [
    "x0 = torch.randn(2) * 3\n",
    "xi = x0\n",
    "step_size = 1e-1\n",
    "xis = [x0]\n",
    "for i in range(50):\n",
    "  g = gradient(sum_of_squares, xi)\n",
    "  print(xi, g)\n",
    "  xi = xi - g * step_size\n",
    "  xis.append(xi)\n",
    "print(xi)"
   ]
  },
  {
   "cell_type": "code",
   "execution_count": 95,
   "metadata": {},
   "outputs": [
    {
     "data": {
      "image/png": "[encoded data removed]",
      "text/plain": [
       "<Figure size 432x288 with 1 Axes>"
      ]
     },
     "metadata": {
      "needs_background": "light"
     },
     "output_type": "display_data"
    }
   ],
   "source": [
    "salary_and_year = [[83000, 8.7],\n",
    "                  [88000, 8.1],\n",
    "                  [48000, 0.7],\n",
    "                  [76000, 6],\n",
    "                  [69000, 6.5],\n",
    "                  [76000, 7.5],\n",
    "                  [60000, 2.5],\n",
    "                  [83000, 10],\n",
    "                  [48000, 1.9],\n",
    "                  [63000, 4.2]]\n",
    "data = torch.Tensor(salary_and_year)\n",
    "salaries = data[:, 0]\n",
    "years = data[:, 1]\n",
    "plt.scatter(years, salaries)\n",
    "plt.xlabel('year')\n",
    "plt.ylabel('salary')\n",
    "A = torch.stack([years, torch.ones(years.shape)], axis=1)\n",
    "s = salaries"
   ]
  },
  {
   "cell_type": "code",
   "execution_count": 96,
   "metadata": {},
   "outputs": [
    {
     "name": "stdout",
     "output_type": "stream",
     "text": [
      "tensor([ 1000., 10000.])\n"
     ]
    },
    {
     "ename": "RuntimeError",
     "evalue": "1D tensors expected, but got 2D and 1D tensors",
     "output_type": "error",
     "traceback": [
      "\u001b[0;31m---------------------------------------------------------------------------\u001b[0m",
      "\u001b[0;31mRuntimeError\u001b[0m                              Traceback (most recent call last)",
      "\u001b[1;32m/Users/jingwoo/Desktop/programing/AI_Practice/Yonsei/AI Math/gradient-descent.ipynb Cell 18'\u001b[0m in \u001b[0;36m<cell line: 3>\u001b[0;34m()\u001b[0m\n\u001b[1;32m      <a href='vscode-notebook-cell:/Users/jingwoo/Desktop/programing/AI_Practice/Yonsei/AI%20Math/gradient-descent.ipynb#ch0000017?line=0'>1</a>\u001b[0m guess \u001b[39m=\u001b[39m torch\u001b[39m.\u001b[39mTensor([\u001b[39m1000.\u001b[39m, \u001b[39m10000.\u001b[39m])\n\u001b[1;32m      <a href='vscode-notebook-cell:/Users/jingwoo/Desktop/programing/AI_Practice/Yonsei/AI%20Math/gradient-descent.ipynb#ch0000017?line=1'>2</a>\u001b[0m \u001b[39mprint\u001b[39m(guess)\n\u001b[0;32m----> <a href='vscode-notebook-cell:/Users/jingwoo/Desktop/programing/AI_Practice/Yonsei/AI%20Math/gradient-descent.ipynb#ch0000017?line=2'>3</a>\u001b[0m s_hat \u001b[39m=\u001b[39m torch\u001b[39m.\u001b[39;49mdot(A, guess)\n\u001b[1;32m      <a href='vscode-notebook-cell:/Users/jingwoo/Desktop/programing/AI_Practice/Yonsei/AI%20Math/gradient-descent.ipynb#ch0000017?line=3'>4</a>\u001b[0m \u001b[39mprint\u001b[39m(s_hat)\n\u001b[1;32m      <a href='vscode-notebook-cell:/Users/jingwoo/Desktop/programing/AI_Practice/Yonsei/AI%20Math/gradient-descent.ipynb#ch0000017?line=4'>5</a>\u001b[0m \u001b[39mprint\u001b[39m(s)\n",
      "\u001b[0;31mRuntimeError\u001b[0m: 1D tensors expected, but got 2D and 1D tensors"
     ]
    }
   ],
   "source": [
    "guess = torch.Tensor([1000., 10000.])\n",
    "print(guess)\n",
    "s_hat = torch.dot(A, guess)\n",
    "print(s_hat)\n",
    "print(s)\n",
    "errors = s - s_hat\n",
    "error = torch.dot(errors.transpose(), errors) / A.shape[0]\n",
    "print(errors)\n",
    "print(error)\n",
    "\n",
    "def compute_error(current_model, A, s):\n",
    "  errors = s - torch.dot(A, current_model)\n",
    "  return torch.dot(errors.transpose(), errors) / A.shape[0]\n",
    "\n",
    "from functools import partial\n",
    "compute_error_As = partial(compute_error, A=A, s=s)\n",
    "print(compute_error_As(current_model=guess))"
   ]
  },
  {
   "cell_type": "code",
   "execution_count": 104,
   "metadata": {},
   "outputs": [
    {
     "ename": "TypeError",
     "evalue": "transpose() received an invalid combination of arguments - got (), but expected one of:\n * (int dim0, int dim1)\n * (name dim0, name dim1)\n",
     "output_type": "error",
     "traceback": [
      "\u001b[0;31m---------------------------------------------------------------------------\u001b[0m",
      "\u001b[0;31mTypeError\u001b[0m                                 Traceback (most recent call last)",
      "\u001b[1;32m/Users/jingwoo/Desktop/programing/AI_Practice/Yonsei/AI Math/gradient-descent.ipynb Cell 19'\u001b[0m in \u001b[0;36m<cell line: 2>\u001b[0;34m()\u001b[0m\n\u001b[1;32m      <a href='vscode-notebook-cell:/Users/jingwoo/Desktop/programing/AI_Practice/Yonsei/AI%20Math/gradient-descent.ipynb#ch0000018?line=0'>1</a>\u001b[0m \u001b[39m# check the gradient by closed form equation: g = 2A^Ts + 2A^TAx\u001b[39;00m\n\u001b[0;32m----> <a href='vscode-notebook-cell:/Users/jingwoo/Desktop/programing/AI_Practice/Yonsei/AI%20Math/gradient-descent.ipynb#ch0000018?line=1'>2</a>\u001b[0m (\u001b[39m-\u001b[39m\u001b[39m2\u001b[39m \u001b[39m*\u001b[39m torch\u001b[39m.\u001b[39mdot(A\u001b[39m.\u001b[39;49mtranspose(), s) \u001b[39m+\u001b[39m \u001b[39m2\u001b[39m \u001b[39m*\u001b[39m torch\u001b[39m.\u001b[39mdot(torch\u001b[39m.\u001b[39mdot(A\u001b[39m.\u001b[39mtranspose(), A), guess) ) \u001b[39m/\u001b[39m A\u001b[39m.\u001b[39mshape[\u001b[39m0\u001b[39m]\n",
      "\u001b[0;31mTypeError\u001b[0m: transpose() received an invalid combination of arguments - got (), but expected one of:\n * (int dim0, int dim1)\n * (name dim0, name dim1)\n"
     ]
    }
   ],
   "source": [
    "# check the gradient by closed form equation: g = 2A^Ts + 2A^TAx\n",
    "(-2 * torch.dot(A.transpose(), s) + 2 * torch.dot(torch.dot(A.transpose(), A), guess) ) / A.shape[0]"
   ]
  },
  {
   "cell_type": "code",
   "execution_count": 105,
   "metadata": {},
   "outputs": [
    {
     "name": "stderr",
     "output_type": "stream",
     "text": [
      "  0%|          | 0/10000 [00:00<?, ?it/s]\n"
     ]
    },
    {
     "ename": "NameError",
     "evalue": "name 'compute_error' is not defined",
     "output_type": "error",
     "traceback": [
      "\u001b[0;31m---------------------------------------------------------------------------\u001b[0m",
      "\u001b[0;31mNameError\u001b[0m                                 Traceback (most recent call last)",
      "\u001b[1;32m/Users/jingwoo/Desktop/programing/AI_Practice/Yonsei/AI Math/gradient-descent.ipynb Cell 20'\u001b[0m in \u001b[0;36m<cell line: 8>\u001b[0;34m()\u001b[0m\n\u001b[1;32m      <a href='vscode-notebook-cell:/Users/jingwoo/Desktop/programing/AI_Practice/Yonsei/AI%20Math/gradient-descent.ipynb#ch0000019?line=7'>8</a>\u001b[0m \u001b[39mfor\u001b[39;00m i \u001b[39min\u001b[39;00m trange(\u001b[39m10000\u001b[39m):\n\u001b[1;32m      <a href='vscode-notebook-cell:/Users/jingwoo/Desktop/programing/AI_Practice/Yonsei/AI%20Math/gradient-descent.ipynb#ch0000019?line=8'>9</a>\u001b[0m   xi\u001b[39m.\u001b[39mrequires_grad \u001b[39m=\u001b[39m \u001b[39mTrue\u001b[39;00m\n\u001b[0;32m---> <a href='vscode-notebook-cell:/Users/jingwoo/Desktop/programing/AI_Practice/Yonsei/AI%20Math/gradient-descent.ipynb#ch0000019?line=9'>10</a>\u001b[0m   loss \u001b[39m=\u001b[39m compute_error(xi, A, s)\n\u001b[1;32m     <a href='vscode-notebook-cell:/Users/jingwoo/Desktop/programing/AI_Practice/Yonsei/AI%20Math/gradient-descent.ipynb#ch0000019?line=10'>11</a>\u001b[0m   loss\u001b[39m.\u001b[39mbackward()\n\u001b[1;32m     <a href='vscode-notebook-cell:/Users/jingwoo/Desktop/programing/AI_Practice/Yonsei/AI%20Math/gradient-descent.ipynb#ch0000019?line=11'>12</a>\u001b[0m   xi \u001b[39m=\u001b[39m (xi \u001b[39m-\u001b[39m xi\u001b[39m.\u001b[39mgrad \u001b[39m*\u001b[39m step_size)\u001b[39m.\u001b[39mdetach()\n",
      "\u001b[0;31mNameError\u001b[0m: name 'compute_error' is not defined"
     ]
    },
    {
     "data": {
      "image/png": "[encoded data removed]",
      "text/plain": [
       "<Figure size 432x288 with 1 Axes>"
      ]
     },
     "metadata": {
      "needs_background": "light"
     },
     "output_type": "display_data"
    }
   ],
   "source": [
    "xi = torch.Tensor([1000., 10000.])\n",
    "step_size = 1e-3\n",
    "xis = [xi]\n",
    "# errors = [compute_error_As(current_model=xi)]\n",
    "# print(xi, error)\n",
    "plt.plot((0, 10), (xi[1], xi[0]*10+xi[1]))\n",
    "losses = []\n",
    "for i in trange(10000):\n",
    "  xi.requires_grad = True\n",
    "  loss = compute_error(xi, A, s)\n",
    "  loss.backward()\n",
    "  xi = (xi - xi.grad * step_size).detach()\n",
    "  # g = gradient(compute_error_As, xi)\n",
    "  # xi = xi - g * step_size\n",
    "  # error = compute_error_As(current_model=xi)\n",
    "  # # print(xi, g, error)\n",
    "  xis.append(xi)\n",
    "  losses.append(loss)\n",
    "  # errors.append(compute_error_As(current_model=xi))\n",
    "  plt.plot((0, 10), (xi[1], xi[0]*10+xi[1]))\n",
    "plt.scatter(years, salaries)\n",
    "plt.xlabel('year')\n",
    "plt.ylabel('salary')\n",
    "plt.show()\n",
    "plt.plot(range(len(losses)), losses)\n",
    "# plt.plot(range(len(errors)), errors)\n",
    "plt.show()\n",
    "print(loss)\n",
    "# print(errors[-1])\n",
    "print(xi)"
   ]
  },
  {
   "cell_type": "code",
   "execution_count": null,
   "metadata": {},
   "outputs": [],
   "source": []
  }
 ],
 "metadata": {
  "kernelspec": {
   "display_name": "base",
   "language": "python",
   "name": "python3"
  },
  "language_info": {
   "codemirror_mode": {
    "name": "ipython",
    "version": 3
   },
   "file_extension": ".py",
   "mimetype": "text/x-python",
   "name": "python",
   "nbconvert_exporter": "python",
   "pygments_lexer": "ipython3",
   "version": "3.8.3"
  },
  "orig_nbformat": 4
 },
 "nbformat": 4,
 "nbformat_minor": 2
}
